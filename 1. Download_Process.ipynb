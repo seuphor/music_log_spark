{
 "cells": [
  {
   "cell_type": "code",
   "execution_count": 18,
   "metadata": {},
   "outputs": [],
   "source": [
    "import csv\n",
    "input_file = 'dataset/1_1_search.log'\n",
    "output_file = 'dataset/1_1_search.csv'\n",
    "output_field = ['uuid', 'device', 'date']\n",
    "with open(input_file, 'r', encoding='latin-1') as f, open(output_file, 'w') as f_out:\n",
    "    log = f.readlines()\n",
    "    log_t = list(map(lambda x: x.split('\\t'), log[:100]))\n",
    "    \n",
    "    \n",
    "    csvout = csv.writer(f_out, delimiter=',')\n",
    "    csvout.writerow(output_field)\n",
    "    for row in log_t:\n",
    "        csvout.writerow(list(map(lambda x: x.rstrip().lstrip(), row[:3])))"
   ]
  },
  {
   "cell_type": "code",
   "execution_count": null,
   "metadata": {},
   "outputs": [],
   "source": []
  }
 ],
 "metadata": {
  "kernelspec": {
   "display_name": "Python 3",
   "language": "python",
   "name": "python3"
  },
  "language_info": {
   "codemirror_mode": {
    "name": "ipython",
    "version": 3
   },
   "file_extension": ".py",
   "mimetype": "text/x-python",
   "name": "python",
   "nbconvert_exporter": "python",
   "pygments_lexer": "ipython3",
   "version": "3.6.5"
  }
 },
 "nbformat": 4,
 "nbformat_minor": 2
}
